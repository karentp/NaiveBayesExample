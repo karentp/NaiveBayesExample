{
  "nbformat": 4,
  "nbformat_minor": 0,
  "metadata": {
    "colab": {
      "name": "NaiveBayesEjemplo.ipynb",
      "provenance": [],
      "collapsed_sections": [],
      "authorship_tag": "ABX9TyNwugz9cIPPK1PvtD7Fcjy+",
      "include_colab_link": true
    },
    "kernelspec": {
      "name": "python3",
      "display_name": "Python 3"
    },
    "language_info": {
      "name": "python"
    }
  },
  "cells": [
    {
      "cell_type": "markdown",
      "metadata": {
        "id": "view-in-github",
        "colab_type": "text"
      },
      "source": [
        "<a href=\"https://colab.research.google.com/github/karentp/NaiveBayesExample/blob/main/NaiveBayesEjemplo.ipynb\" target=\"_parent\"><img src=\"https://colab.research.google.com/assets/colab-badge.svg\" alt=\"Open In Colab\"/></a>"
      ]
    },
    {
      "cell_type": "markdown",
      "metadata": {
        "id": "itIgxEZ2d0qx"
      },
      "source": [
        "#  Ejemplo clasificador con algoritmo Naive Bayes\n"
      ]
    },
    {
      "cell_type": "markdown",
      "metadata": {
        "id": "jXLC3nI9k_BG"
      },
      "source": [
        "$P(X|Y) = P(Y|X) * \\frac{P(X)}{P(Y)}$"
      ]
    },
    {
      "cell_type": "markdown",
      "metadata": {
        "id": "aazBCZv1eJDG"
      },
      "source": [
        "Importamos las librerías para hacer cálculos, como estamos usando python usamos las más comunes para manejo de datos:"
      ]
    },
    {
      "cell_type": "code",
      "metadata": {
        "id": "aV57K9aAdrGN"
      },
      "source": [
        "import numpy as np\n",
        "import pandas as pd\n",
        "import scipy.stats as stats\n",
        "import matplotlib.pyplot as plt\n",
        "import seaborn as sns\n",
        "sns.set(style=\"whitegrid\")"
      ],
      "execution_count": 1,
      "outputs": []
    },
    {
      "cell_type": "markdown",
      "metadata": {
        "id": "sHE7UrWkeTn2"
      },
      "source": [
        "Como los parámetros de los datasets son continuos (tienden a algo), lo más común es escoger una distribución Gaussiana (en forma de campana), se necesita escoger el tipo de distribución para calcular los likelihood de cada probabilidad"
      ]
    },
    {
      "cell_type": "code",
      "metadata": {
        "id": "g9rreK46eUhE"
      },
      "source": [
        "class NaiveBayesClassifier():\n",
        "\n",
        "      def calc_statistics(self, features, target):\n",
        "        '''\n",
        "        Calculamos la media y la varianza de cada columna(cada feature o característica), \n",
        "        luego las transformamos en arrys de numpy. La media y la varianza son necesarias \n",
        "        para calcular la distribución Gaussiana.\n",
        "        ''' \n",
        "        self.mean = features.groupby(target).apply(np.mean).to_numpy()\n",
        "        self.var = features.groupby(target).apply(np.var).to_numpy()\n",
        "              \n",
        "        return self.mean, self.var\n",
        "\n",
        "\n",
        "      def gaussian_density(self, class_idx, x):     \n",
        "        '''\n",
        "        Calculamos la probabilidad de la distribución Gaussiana. La fórmula para la probabilidad\n",
        "        de la función de densidad Gaussiana es:\n",
        "        (1/√2pi*σ) * exp((-1/2)*((x-μ)^2)/(2*σ²)), \n",
        "        \n",
        "        donde μ es la media, σ² es la varianza, σ es la desviación estándar (raíz cuadrada de la varianza)\n",
        "        '''\n",
        "        mean = self.mean[class_idx]\n",
        "        var = self.var[class_idx]\n",
        "        numerator = np.exp((-1/2)*((x-mean)**2) / (2 * var))\n",
        "        denominator = np.sqrt(2 * np.pi * var)\n",
        "        prob = numerator / denominator\n",
        "        return prob\n",
        "\n",
        "      def calc_prior(self, features, target):\n",
        "        '''\n",
        "        calcular la probabilidad previa P(Y)\n",
        "        '''\n",
        "        self.prior = (features.groupby(target).apply(lambda x: len(x)) / self.rows).to_numpy()\n",
        "\n",
        "        return self.prior\n",
        "\n",
        "      def calc_posterior(self, x):\n",
        "        \"\"\"\n",
        "        Calcular la probabilidad posterior para cada clase P(X|Y)\n",
        "        \"\"\"\n",
        "        posteriors = []\n",
        "        for i in range(self.count):\n",
        "            ## se usa el logaritmo para hacerlo más estable y evitar underflow\n",
        "            prior = np.log(self.prior[i]) \n",
        "            conditional = np.sum(np.log(self.gaussian_density(i, x))) \n",
        "            posterior = prior + conditional\n",
        "            posteriors.append(posterior)\n",
        "        #returna la clase con la probabilidad posterior más alta\n",
        "        return self.classes[np.argmax(posteriors)]\n",
        "\n",
        "      def fit(self, features, target):\n",
        "        \"\"\"definir las clases y los features\"\"\"\n",
        "        self.classes = np.unique(target)\n",
        "        self.count = len(self.classes)\n",
        "        self.feature_nums = features.shape[1]\n",
        "        self.rows = features.shape[0]\n",
        "        \n",
        "        \"\"\" calcular las estadisticas \"\"\"  \n",
        "        self.calc_statistics(features, target)\n",
        "\n",
        "        \"\"\" calcular la probabilidad previa\"\"\"\n",
        "        self.calc_prior(features, target)\n",
        "            \n",
        "      def predict(self, features):\n",
        "        \"\"\"\n",
        "        Calcular la probabilidad posterior con los features de cada clase\n",
        "        \"\"\"\n",
        "        preds = [self.calc_posterior(f) for f in features.to_numpy()]\n",
        "        return preds\n",
        "\n",
        "      def accuracy(self, y_test, y_pred):\n",
        "        \"\"\"\n",
        "        Función para comparar este algoritmo y el ground truth\n",
        "        \"\"\"\n",
        "        accuracy = np.sum(y_test == y_pred) / len(y_test)\n",
        "        return accuracy\n",
        "\n",
        "      def visualize(self, y_true, y_pred, target):\n",
        "\n",
        "        \"\"\"\n",
        "        Función para visualizar los resultados\n",
        "        \"\"\"\n",
        "        \n",
        "        tr = pd.DataFrame(data=y_true, columns=[target])\n",
        "        pr = pd.DataFrame(data=y_pred, columns=[target])\n",
        "        \n",
        "        \n",
        "        fig, ax = plt.subplots(1, 2, sharex='col', sharey='row', figsize=(15,6))\n",
        "        \n",
        "        sns.countplot(x=target, data=tr, ax=ax[0], palette='rocket', alpha=0.7, hue=target, dodge=False)\n",
        "        sns.countplot(x=target, data=pr, ax=ax[1], palette='rocket', alpha=0.7, hue=target, dodge=False)\n",
        "        \n",
        "        sns.countplot(x=target, hue=\"who\", data=titanic)\n",
        "\n",
        "        fig.suptitle('Ground truth (Verdad fundamental) vs Predicción Naive Bayes', fontsize=20)\n",
        "\n",
        "        ax[0].tick_params(labelsize=12)\n",
        "        ax[1].tick_params(labelsize=12)\n",
        "        ax[0].set_title(\"Valores reales\", fontsize=18)\n",
        "        ax[1].set_title(\"Valores predecidos\", fontsize=18)\n",
        "        plt.show()"
      ],
      "execution_count": 2,
      "outputs": []
    },
    {
      "cell_type": "markdown",
      "metadata": {
        "id": "pNQvou3NrwnF"
      },
      "source": [
        "Accedemos a la carpeta de drive donde está el dataset"
      ]
    },
    {
      "cell_type": "code",
      "metadata": {
        "colab": {
          "base_uri": "https://localhost:8080/"
        },
        "id": "eYaN16gRrjKF",
        "outputId": "9b96bf0c-c174-42d0-f308-5297f479acb6"
      },
      "source": [
        "from google.colab import drive\n",
        "drive.mount('/content/drive')\n",
        "%cd ./drive/MyDrive/UCR/2021/'II-2021'/IA/NaiveBayes"
      ],
      "execution_count": 3,
      "outputs": [
        {
          "output_type": "stream",
          "text": [
            "Drive already mounted at /content/drive; to attempt to forcibly remount, call drive.mount(\"/content/drive\", force_remount=True).\n",
            "/content/drive/MyDrive/UCR/2021/II-2021/IA/NaiveBayes\n"
          ],
          "name": "stdout"
        }
      ]
    },
    {
      "cell_type": "markdown",
      "metadata": {
        "id": "ab7B91wPr16k"
      },
      "source": [
        "Procesamos el dataset para realizar el entrenamiento"
      ]
    },
    {
      "cell_type": "code",
      "metadata": {
        "id": "fhmRWQs_qzaf"
      },
      "source": [
        "\"\"\" Leemos el dataset con Pandas -  la información es (150 filas, 5 col)\"\"\"\n",
        "dataset = pd.read_csv(\"/content/drive/MyDrive/UCR/2021/II-2021/IA/NaiveBayes/iris.csv\")\n",
        "\n",
        "\"\"\" Mezclar el dataset con muestra\"\"\"\n",
        "dataset = dataset.sample(frac=1, random_state=1).reset_index(drop=True)\n"
      ],
      "execution_count": 4,
      "outputs": []
    },
    {
      "cell_type": "markdown",
      "metadata": {
        "id": "U48AVrHVyn11"
      },
      "source": [
        "Dataset"
      ]
    },
    {
      "cell_type": "code",
      "metadata": {
        "colab": {
          "base_uri": "https://localhost:8080/",
          "height": 484
        },
        "id": "-FydcyY9yqTt",
        "outputId": "cf42b067-475d-4ecb-ebe3-b9eae2a09f94"
      },
      "source": [
        "\"\"\" Tamaño de dataset\"\"\"\n",
        "print(\"tamaño del dataset:\", dataset.shape)\n",
        "print(\"\\n\")\n",
        "print(\"Dataset: \")\n",
        "dataset"
      ],
      "execution_count": 5,
      "outputs": [
        {
          "output_type": "stream",
          "text": [
            "tamaño del dataset: (150, 5)\n",
            "\n",
            "\n",
            "Dataset: \n"
          ],
          "name": "stdout"
        },
        {
          "output_type": "execute_result",
          "data": {
            "text/html": [
              "<div>\n",
              "<style scoped>\n",
              "    .dataframe tbody tr th:only-of-type {\n",
              "        vertical-align: middle;\n",
              "    }\n",
              "\n",
              "    .dataframe tbody tr th {\n",
              "        vertical-align: top;\n",
              "    }\n",
              "\n",
              "    .dataframe thead th {\n",
              "        text-align: right;\n",
              "    }\n",
              "</style>\n",
              "<table border=\"1\" class=\"dataframe\">\n",
              "  <thead>\n",
              "    <tr style=\"text-align: right;\">\n",
              "      <th></th>\n",
              "      <th>sepal.length</th>\n",
              "      <th>sepal.width</th>\n",
              "      <th>petal.length</th>\n",
              "      <th>petal.width</th>\n",
              "      <th>variety</th>\n",
              "    </tr>\n",
              "  </thead>\n",
              "  <tbody>\n",
              "    <tr>\n",
              "      <th>0</th>\n",
              "      <td>5.8</td>\n",
              "      <td>4.0</td>\n",
              "      <td>1.2</td>\n",
              "      <td>0.2</td>\n",
              "      <td>Setosa</td>\n",
              "    </tr>\n",
              "    <tr>\n",
              "      <th>1</th>\n",
              "      <td>5.1</td>\n",
              "      <td>2.5</td>\n",
              "      <td>3.0</td>\n",
              "      <td>1.1</td>\n",
              "      <td>Versicolor</td>\n",
              "    </tr>\n",
              "    <tr>\n",
              "      <th>2</th>\n",
              "      <td>6.6</td>\n",
              "      <td>3.0</td>\n",
              "      <td>4.4</td>\n",
              "      <td>1.4</td>\n",
              "      <td>Versicolor</td>\n",
              "    </tr>\n",
              "    <tr>\n",
              "      <th>3</th>\n",
              "      <td>5.4</td>\n",
              "      <td>3.9</td>\n",
              "      <td>1.3</td>\n",
              "      <td>0.4</td>\n",
              "      <td>Setosa</td>\n",
              "    </tr>\n",
              "    <tr>\n",
              "      <th>4</th>\n",
              "      <td>7.9</td>\n",
              "      <td>3.8</td>\n",
              "      <td>6.4</td>\n",
              "      <td>2.0</td>\n",
              "      <td>Virginica</td>\n",
              "    </tr>\n",
              "    <tr>\n",
              "      <th>...</th>\n",
              "      <td>...</td>\n",
              "      <td>...</td>\n",
              "      <td>...</td>\n",
              "      <td>...</td>\n",
              "      <td>...</td>\n",
              "    </tr>\n",
              "    <tr>\n",
              "      <th>145</th>\n",
              "      <td>6.3</td>\n",
              "      <td>2.8</td>\n",
              "      <td>5.1</td>\n",
              "      <td>1.5</td>\n",
              "      <td>Virginica</td>\n",
              "    </tr>\n",
              "    <tr>\n",
              "      <th>146</th>\n",
              "      <td>6.4</td>\n",
              "      <td>3.1</td>\n",
              "      <td>5.5</td>\n",
              "      <td>1.8</td>\n",
              "      <td>Virginica</td>\n",
              "    </tr>\n",
              "    <tr>\n",
              "      <th>147</th>\n",
              "      <td>6.3</td>\n",
              "      <td>2.5</td>\n",
              "      <td>4.9</td>\n",
              "      <td>1.5</td>\n",
              "      <td>Versicolor</td>\n",
              "    </tr>\n",
              "    <tr>\n",
              "      <th>148</th>\n",
              "      <td>6.7</td>\n",
              "      <td>3.1</td>\n",
              "      <td>5.6</td>\n",
              "      <td>2.4</td>\n",
              "      <td>Virginica</td>\n",
              "    </tr>\n",
              "    <tr>\n",
              "      <th>149</th>\n",
              "      <td>4.9</td>\n",
              "      <td>3.6</td>\n",
              "      <td>1.4</td>\n",
              "      <td>0.1</td>\n",
              "      <td>Setosa</td>\n",
              "    </tr>\n",
              "  </tbody>\n",
              "</table>\n",
              "<p>150 rows × 5 columns</p>\n",
              "</div>"
            ],
            "text/plain": [
              "     sepal.length  sepal.width  petal.length  petal.width     variety\n",
              "0             5.8          4.0           1.2          0.2      Setosa\n",
              "1             5.1          2.5           3.0          1.1  Versicolor\n",
              "2             6.6          3.0           4.4          1.4  Versicolor\n",
              "3             5.4          3.9           1.3          0.4      Setosa\n",
              "4             7.9          3.8           6.4          2.0   Virginica\n",
              "..            ...          ...           ...          ...         ...\n",
              "145           6.3          2.8           5.1          1.5   Virginica\n",
              "146           6.4          3.1           5.5          1.8   Virginica\n",
              "147           6.3          2.5           4.9          1.5  Versicolor\n",
              "148           6.7          3.1           5.6          2.4   Virginica\n",
              "149           4.9          3.6           1.4          0.1      Setosa\n",
              "\n",
              "[150 rows x 5 columns]"
            ]
          },
          "metadata": {},
          "execution_count": 5
        }
      ]
    },
    {
      "cell_type": "markdown",
      "metadata": {
        "id": "7FJcnBa_y69L"
      },
      "source": [
        "Indicamos cuales son los features y cual es el targe"
      ]
    },
    {
      "cell_type": "code",
      "metadata": {
        "colab": {
          "base_uri": "https://localhost:8080/"
        },
        "id": "1Q0uODJeyldG",
        "outputId": "e3d36a31-66f2-47a8-86d4-ad90fd786b2f"
      },
      "source": [
        "\"\"\" Establecer los features y el objetivo\"\"\"\n",
        "X, y = dataset.iloc[:, :-1], dataset.iloc[:, -1]\n",
        "\n",
        "print(\"Características \\n\", X)\n",
        "print(\"\\n Objetivo \\n\", y)"
      ],
      "execution_count": 6,
      "outputs": [
        {
          "output_type": "stream",
          "text": [
            "Características \n",
            "      sepal.length  sepal.width  petal.length  petal.width\n",
            "0             5.8          4.0           1.2          0.2\n",
            "1             5.1          2.5           3.0          1.1\n",
            "2             6.6          3.0           4.4          1.4\n",
            "3             5.4          3.9           1.3          0.4\n",
            "4             7.9          3.8           6.4          2.0\n",
            "..            ...          ...           ...          ...\n",
            "145           6.3          2.8           5.1          1.5\n",
            "146           6.4          3.1           5.5          1.8\n",
            "147           6.3          2.5           4.9          1.5\n",
            "148           6.7          3.1           5.6          2.4\n",
            "149           4.9          3.6           1.4          0.1\n",
            "\n",
            "[150 rows x 4 columns]\n",
            "\n",
            " Objetivo \n",
            " 0          Setosa\n",
            "1      Versicolor\n",
            "2      Versicolor\n",
            "3          Setosa\n",
            "4       Virginica\n",
            "          ...    \n",
            "145     Virginica\n",
            "146     Virginica\n",
            "147    Versicolor\n",
            "148     Virginica\n",
            "149        Setosa\n",
            "Name: variety, Length: 150, dtype: object\n"
          ],
          "name": "stdout"
        }
      ]
    },
    {
      "cell_type": "markdown",
      "metadata": {
        "id": "j-R5oQDtzKPz"
      },
      "source": [
        "Partimos el dataset para utilizar una parte como training y otra parte para evaluar. \n",
        "Se escogió 70% (100) para entrenar y 30% (50) para evaluar"
      ]
    },
    {
      "cell_type": "code",
      "metadata": {
        "id": "3oKps4pvzLsH"
      },
      "source": [
        "X_train, X_test, y_train, y_test = X[:100], X[100:], y[:100], y[100:]"
      ],
      "execution_count": 86,
      "outputs": []
    },
    {
      "cell_type": "markdown",
      "metadata": {
        "id": "LPX1ct2RuRIf"
      },
      "source": [
        "Tamaño del dataset de entranamiento:"
      ]
    },
    {
      "cell_type": "code",
      "metadata": {
        "colab": {
          "base_uri": "https://localhost:8080/"
        },
        "id": "JSAA60J4uQWh",
        "outputId": "9ff85766-743a-4daf-a7d6-b63715eb36f6"
      },
      "source": [
        "X_train.shape"
      ],
      "execution_count": 8,
      "outputs": [
        {
          "output_type": "execute_result",
          "data": {
            "text/plain": [
              "(100, 4)"
            ]
          },
          "metadata": {},
          "execution_count": 8
        }
      ]
    },
    {
      "cell_type": "markdown",
      "metadata": {
        "id": "ismh7CISvnny"
      },
      "source": [
        "Instanciamos el clasificador"
      ]
    },
    {
      "cell_type": "code",
      "metadata": {
        "id": "1LQ5Q8xfvn8J"
      },
      "source": [
        "x = NaiveBayesClassifier()"
      ],
      "execution_count": 9,
      "outputs": []
    },
    {
      "cell_type": "markdown",
      "metadata": {
        "id": "8bSg-Q_GuWkF"
      },
      "source": [
        "Las clases"
      ]
    },
    {
      "cell_type": "code",
      "metadata": {
        "colab": {
          "base_uri": "https://localhost:8080/"
        },
        "id": "tNeh6x7puZ0_",
        "outputId": "edbdce20-da32-4d14-d949-361ea972aa1e"
      },
      "source": [
        "x.fit(X_train, y_train)\n",
        "x.classes"
      ],
      "execution_count": 10,
      "outputs": [
        {
          "output_type": "execute_result",
          "data": {
            "text/plain": [
              "array(['Setosa', 'Versicolor', 'Virginica'], dtype=object)"
            ]
          },
          "metadata": {},
          "execution_count": 10
        }
      ]
    },
    {
      "cell_type": "markdown",
      "metadata": {
        "id": "huOazodnuaKc"
      },
      "source": [
        "El número de características"
      ]
    },
    {
      "cell_type": "code",
      "metadata": {
        "colab": {
          "base_uri": "https://localhost:8080/"
        },
        "id": "UXwl8_Nbucjn",
        "outputId": "c803b98f-6cc8-4d1c-c3bc-6a81b138b512"
      },
      "source": [
        "x.feature_nums"
      ],
      "execution_count": 11,
      "outputs": [
        {
          "output_type": "execute_result",
          "data": {
            "text/plain": [
              "4"
            ]
          },
          "metadata": {},
          "execution_count": 11
        }
      ]
    },
    {
      "cell_type": "markdown",
      "metadata": {
        "id": "zk717HtTucyE"
      },
      "source": [
        "Calcular la probabilidad previa"
      ]
    },
    {
      "cell_type": "code",
      "metadata": {
        "colab": {
          "base_uri": "https://localhost:8080/"
        },
        "id": "BcugVQ8Ruo9p",
        "outputId": "2441ebb9-6139-4537-c2fc-17618a88697a"
      },
      "source": [
        "x.calc_prior(X_train, y_train)\n",
        "x.prior"
      ],
      "execution_count": 12,
      "outputs": [
        {
          "output_type": "execute_result",
          "data": {
            "text/plain": [
              "array([0.31, 0.32, 0.37])"
            ]
          },
          "metadata": {},
          "execution_count": 12
        }
      ]
    },
    {
      "cell_type": "markdown",
      "metadata": {
        "id": "DHJsDudA08C5"
      },
      "source": [
        "Calculamos la media y la varianza para la distribución Gaussiana a la hora de calcular las probilidades posteriores"
      ]
    },
    {
      "cell_type": "code",
      "metadata": {
        "colab": {
          "base_uri": "https://localhost:8080/"
        },
        "id": "bWQlbUZ308cP",
        "outputId": "5c2e74f8-71bf-461a-e827-50fe380b9445"
      },
      "source": [
        "x.calc_statistics(X_train, y_train)"
      ],
      "execution_count": 13,
      "outputs": [
        {
          "output_type": "execute_result",
          "data": {
            "text/plain": [
              "(array([[5.08387097, 3.50322581, 1.46129032, 0.24516129],\n",
              "        [5.9125    , 2.790625  , 4.275     , 1.33125   ],\n",
              "        [6.71891892, 2.98918919, 5.63243243, 2.05675676]]),\n",
              " array([[0.11361082, 0.10934443, 0.02430801, 0.0089282 ],\n",
              "        [0.21296875, 0.08272461, 0.185625  , 0.03214844],\n",
              "        [0.3566691 , 0.11339664, 0.32867787, 0.0592111 ]]))"
            ]
          },
          "metadata": {},
          "execution_count": 13
        }
      ]
    },
    {
      "cell_type": "markdown",
      "metadata": {
        "id": "Qh5v3RbN00P8"
      },
      "source": [
        "Realizar todos los cálculos anteriores y calcular la probabilidad posterior para cada clase"
      ]
    },
    {
      "cell_type": "code",
      "metadata": {
        "colab": {
          "base_uri": "https://localhost:8080/"
        },
        "id": "fkl9XRhU00eu",
        "outputId": "87f8ba60-520c-4e58-d630-e9652e0e061e"
      },
      "source": [
        "predictions = x.predict(X_test)\n",
        "predictions"
      ],
      "execution_count": 14,
      "outputs": [
        {
          "output_type": "execute_result",
          "data": {
            "text/plain": [
              "['Setosa',\n",
              " 'Versicolor',\n",
              " 'Setosa',\n",
              " 'Versicolor',\n",
              " 'Versicolor',\n",
              " 'Setosa',\n",
              " 'Versicolor',\n",
              " 'Setosa',\n",
              " 'Setosa',\n",
              " 'Virginica',\n",
              " 'Virginica',\n",
              " 'Virginica',\n",
              " 'Setosa',\n",
              " 'Setosa',\n",
              " 'Virginica',\n",
              " 'Setosa',\n",
              " 'Virginica',\n",
              " 'Setosa',\n",
              " 'Virginica',\n",
              " 'Versicolor',\n",
              " 'Setosa',\n",
              " 'Virginica',\n",
              " 'Setosa',\n",
              " 'Versicolor',\n",
              " 'Setosa',\n",
              " 'Versicolor',\n",
              " 'Versicolor',\n",
              " 'Setosa',\n",
              " 'Setosa',\n",
              " 'Versicolor',\n",
              " 'Setosa',\n",
              " 'Versicolor',\n",
              " 'Versicolor',\n",
              " 'Setosa',\n",
              " 'Versicolor',\n",
              " 'Versicolor',\n",
              " 'Versicolor',\n",
              " 'Versicolor',\n",
              " 'Virginica',\n",
              " 'Setosa',\n",
              " 'Setosa',\n",
              " 'Versicolor',\n",
              " 'Versicolor',\n",
              " 'Virginica',\n",
              " 'Versicolor',\n",
              " 'Versicolor',\n",
              " 'Virginica',\n",
              " 'Versicolor',\n",
              " 'Virginica',\n",
              " 'Setosa']"
            ]
          },
          "metadata": {},
          "execution_count": 14
        }
      ]
    },
    {
      "cell_type": "markdown",
      "metadata": {
        "id": "mDrbya_OvyFq"
      },
      "source": [
        "Calcular la precisión"
      ]
    },
    {
      "cell_type": "code",
      "metadata": {
        "colab": {
          "base_uri": "https://localhost:8080/"
        },
        "id": "x6BI-IJSv1Fs",
        "outputId": "a073d682-40b2-41a6-f595-dffdedc44474"
      },
      "source": [
        "x.accuracy(y_test, predictions)"
      ],
      "execution_count": 15,
      "outputs": [
        {
          "output_type": "execute_result",
          "data": {
            "text/plain": [
              "0.92"
            ]
          },
          "metadata": {},
          "execution_count": 15
        }
      ]
    },
    {
      "cell_type": "code",
      "metadata": {
        "colab": {
          "base_uri": "https://localhost:8080/"
        },
        "id": "iuC4lP4owBP0",
        "outputId": "807b7d83-c75f-4cf2-96da-95d7c1315a09"
      },
      "source": [
        "y_test.value_counts(normalize=True)"
      ],
      "execution_count": 16,
      "outputs": [
        {
          "output_type": "execute_result",
          "data": {
            "text/plain": [
              "Setosa        0.38\n",
              "Versicolor    0.36\n",
              "Virginica     0.26\n",
              "Name: variety, dtype: float64"
            ]
          },
          "metadata": {},
          "execution_count": 16
        }
      ]
    },
    {
      "cell_type": "code",
      "metadata": {
        "colab": {
          "base_uri": "https://localhost:8080/"
        },
        "id": "Vywvi_S38PWb",
        "outputId": "922bf267-3736-4c4e-9b91-e58d9697c6aa"
      },
      "source": [
        "y_test"
      ],
      "execution_count": 18,
      "outputs": [
        {
          "output_type": "execute_result",
          "data": {
            "text/plain": [
              "100        Setosa\n",
              "101    Versicolor\n",
              "102        Setosa\n",
              "103    Versicolor\n",
              "104    Versicolor\n",
              "105        Setosa\n",
              "106    Versicolor\n",
              "107        Setosa\n",
              "108        Setosa\n",
              "109     Virginica\n",
              "110     Virginica\n",
              "111     Virginica\n",
              "112        Setosa\n",
              "113        Setosa\n",
              "114    Versicolor\n",
              "115        Setosa\n",
              "116     Virginica\n",
              "117        Setosa\n",
              "118     Virginica\n",
              "119     Virginica\n",
              "120        Setosa\n",
              "121     Virginica\n",
              "122        Setosa\n",
              "123    Versicolor\n",
              "124        Setosa\n",
              "125    Versicolor\n",
              "126    Versicolor\n",
              "127        Setosa\n",
              "128        Setosa\n",
              "129    Versicolor\n",
              "130        Setosa\n",
              "131    Versicolor\n",
              "132    Versicolor\n",
              "133        Setosa\n",
              "134    Versicolor\n",
              "135    Versicolor\n",
              "136    Versicolor\n",
              "137    Versicolor\n",
              "138     Virginica\n",
              "139        Setosa\n",
              "140        Setosa\n",
              "141     Virginica\n",
              "142    Versicolor\n",
              "143     Virginica\n",
              "144    Versicolor\n",
              "145     Virginica\n",
              "146     Virginica\n",
              "147    Versicolor\n",
              "148     Virginica\n",
              "149        Setosa\n",
              "Name: variety, dtype: object"
            ]
          },
          "metadata": {},
          "execution_count": 18
        }
      ]
    },
    {
      "cell_type": "code",
      "metadata": {
        "colab": {
          "base_uri": "https://localhost:8080/"
        },
        "id": "UEGhXNfv8RtG",
        "outputId": "a099f96f-2a05-477e-89a8-95ed8c0ec9d5"
      },
      "source": [
        "predictions"
      ],
      "execution_count": 19,
      "outputs": [
        {
          "output_type": "execute_result",
          "data": {
            "text/plain": [
              "['Setosa',\n",
              " 'Versicolor',\n",
              " 'Setosa',\n",
              " 'Versicolor',\n",
              " 'Versicolor',\n",
              " 'Setosa',\n",
              " 'Versicolor',\n",
              " 'Setosa',\n",
              " 'Setosa',\n",
              " 'Virginica',\n",
              " 'Virginica',\n",
              " 'Virginica',\n",
              " 'Setosa',\n",
              " 'Setosa',\n",
              " 'Virginica',\n",
              " 'Setosa',\n",
              " 'Virginica',\n",
              " 'Setosa',\n",
              " 'Virginica',\n",
              " 'Versicolor',\n",
              " 'Setosa',\n",
              " 'Virginica',\n",
              " 'Setosa',\n",
              " 'Versicolor',\n",
              " 'Setosa',\n",
              " 'Versicolor',\n",
              " 'Versicolor',\n",
              " 'Setosa',\n",
              " 'Setosa',\n",
              " 'Versicolor',\n",
              " 'Setosa',\n",
              " 'Versicolor',\n",
              " 'Versicolor',\n",
              " 'Setosa',\n",
              " 'Versicolor',\n",
              " 'Versicolor',\n",
              " 'Versicolor',\n",
              " 'Versicolor',\n",
              " 'Virginica',\n",
              " 'Setosa',\n",
              " 'Setosa',\n",
              " 'Versicolor',\n",
              " 'Versicolor',\n",
              " 'Virginica',\n",
              " 'Versicolor',\n",
              " 'Versicolor',\n",
              " 'Virginica',\n",
              " 'Versicolor',\n",
              " 'Virginica',\n",
              " 'Setosa']"
            ]
          },
          "metadata": {},
          "execution_count": 19
        }
      ]
    },
    {
      "cell_type": "code",
      "metadata": {
        "colab": {
          "base_uri": "https://localhost:8080/",
          "height": 796
        },
        "id": "soGWhRvvEEBh",
        "outputId": "71c812a3-f6f8-4f75-fc4c-c45f078a331c"
      },
      "source": [
        "import matplotlib.colors as colors\n",
        "\n",
        "# Our 2-dimensional classifier will be over variables X and Y\n",
        "N = 100\n",
        "X = np.linspace(4, 8, N)\n",
        "Y = np.linspace(1.5, 5, N)\n",
        "X, Y = np.meshgrid(X, Y)\n",
        "\n",
        "color_list = ['Blues','Greens','Reds']\n",
        "my_norm = colors.Normalize(vmin=-1.,vmax=1.)\n",
        "\n",
        "iris = sns.load_dataset(\"iris\")\n",
        "iris = iris.rename(index = str, columns = {'sepal_length':'sepal_length','sepal_width':'sepal_width', 'petal_length':'petal_length', 'petal_width':'petal_width'})\n",
        "g = sns.FacetGrid(iris, hue=\"species\", size=10, palette = 'colorblind') .map(plt.scatter, \"sepal_length\", \"sepal_width\",)  .add_legend()\n",
        "my_ax = g.ax\n",
        "\n"
      ],
      "execution_count": 101,
      "outputs": [
        {
          "output_type": "stream",
          "text": [
            "/usr/local/lib/python3.7/dist-packages/seaborn/axisgrid.py:316: UserWarning:\n",
            "\n",
            "The `size` parameter has been renamed to `height`; please update your code.\n",
            "\n"
          ],
          "name": "stderr"
        },
        {
          "output_type": "display_data",
          "data": {
            "image/png": "[encoded data removed]",
            "text/plain": [
              "<Figure size 813.85x720 with 1 Axes>"
            ]
          },
          "metadata": {
            "needs_background": "light"
          }
        }
      ]
    },
    {
      "cell_type": "code",
      "metadata": {
        "colab": {
          "base_uri": "https://localhost:8080/",
          "height": 542
        },
        "id": "3O2Z1MS1Kauu",
        "outputId": "8947ea5f-01d0-4f7d-a0a5-427019a6a81a"
      },
      "source": [
        "from plotly.express import scatter_3d\n",
        "df = pd.read_csv('https://raw.githubusercontent.com/plotly/datasets/master/2014_apple_stock.csv')\n",
        "scatter_3d(dataset, x='sepal.length', y='sepal.width', z='petal.length', size=\"petal.width\",\n",
        "                   color=\"variety\", color_discrete_map={\"Joly\": \"blue\", \"Bergeron\": \"violet\", \"Coderre\": \"pink\"})\\\n",
        "            .show()"
      ],
      "execution_count": 44,
      "outputs": [
        {
          "output_type": "display_data",
          "data": {
            "text/html": [
              "<html>\n",
              "<head><meta charset=\"utf-8\" /></head>\n",
              "<body>\n",
              "    <div>\n",
              "            <script src=\"https://cdnjs.cloudflare.com/ajax/libs/mathjax/2.7.5/MathJax.js?config=TeX-AMS-MML_SVG\"></script><script type=\"text/javascript\">if (window.MathJax) {MathJax.Hub.Config({SVG: {font: \"STIX-Web\"}});}</script>\n",
              "                <script type=\"text/javascript\">window.PlotlyConfig = {MathJaxConfig: 'local'};</script>\n",
              "        <script src=\"https://cdn.plot.ly/plotly-latest.min.js\"></script>    \n",
              "            <div id=\"79857296-ed5e-403e-b595-5e5eb53bf6a9\" class=\"plotly-graph-div\" style=\"height:525px; width:100%;\"></div>\n",
              "            <script type=\"text/javascript\">\n",
              "                \n",
              "                    window.PLOTLYENV=window.PLOTLYENV || {};\n",
              "                    \n",
              "                if (document.getElementById(\"79857296-ed5e-403e-b595-5e5eb53bf6a9\")) {\n",
              "                    Plotly.newPlot(\n",
              "                        '79857296-ed5e-403e-b595-5e5eb53bf6a9',\n",
              "                        [{\"hoverlabel\": {\"namelength\": 0}, \"hovertemplate\": \"variety=Setosa<br>sepal.length=%{x}<br>sepal.width=%{y}<br>petal.length=%{z}<br>petal.width=%{marker.size}\", \"legendgroup\": \"variety=Setosa\", \"marker\": {\"color\": \"#ab63fa\", \"size\": [0.2, 0.4, 0.4, 0.2, 0.4, 0.2, 0.4, 0.2, 0.3, 0.2, 0.3, 0.2, 0.2, 0.3, 0.3, 0.2, 0.3, 0.2, 0.2, 0.2, 0.1, 0.2, 0.3, 0.2, 0.2, 0.2, 0.1, 0.2, 0.2, 0.5, 0.1, 0.4, 0.3, 0.4, 0.6, 0.2, 0.2, 0.4, 0.2, 0.2, 0.2, 0.1, 0.2, 0.2, 0.2, 0.2, 0.2, 0.2, 0.2, 0.1], \"sizemode\": \"area\", \"sizeref\": 0.00625, \"symbol\": \"circle\"}, \"mode\": \"markers\", \"name\": \"variety=Setosa\", \"scene\": \"scene\", \"showlegend\": true, \"type\": \"scatter3d\", \"x\": [5.8, 5.4, 5.1, 4.7, 5.4, 4.4, 5.4, 5.0, 5.0, 5.5, 5.1, 5.3, 5.2, 5.1, 5.7, 5.0, 4.8, 5.1, 5.5, 4.8, 4.8, 4.7, 4.6, 5.1, 5.4, 4.9, 5.2, 4.4, 5.2, 5.1, 4.9, 5.7, 4.5, 5.0, 5.0, 4.8, 5.0, 5.1, 4.6, 4.8, 4.6, 4.3, 4.4, 5.1, 4.9, 4.6, 5.0, 5.4, 5.0, 4.9], \"y\": [4.0, 3.9, 3.8, 3.2, 3.9, 3.2, 3.4, 3.2, 3.5, 4.2, 3.8, 3.7, 3.4, 3.5, 3.8, 3.6, 3.0, 3.4, 3.5, 3.4, 3.0, 3.2, 3.4, 3.8, 3.7, 3.1, 4.1, 3.0, 3.5, 3.3, 3.1, 4.4, 2.3, 3.4, 3.5, 3.4, 3.3, 3.7, 3.1, 3.1, 3.2, 3.0, 2.9, 3.5, 3.0, 3.6, 3.4, 3.4, 3.0, 3.6], \"z\": [1.2, 1.3, 1.9, 1.6, 1.7, 1.3, 1.5, 1.2, 1.3, 1.4, 1.5, 1.5, 1.4, 1.4, 1.7, 1.4, 1.4, 1.5, 1.3, 1.6, 1.4, 1.3, 1.4, 1.6, 1.5, 1.5, 1.5, 1.3, 1.5, 1.7, 1.5, 1.5, 1.3, 1.6, 1.6, 1.9, 1.4, 1.5, 1.5, 1.6, 1.4, 1.1, 1.4, 1.4, 1.4, 1.0, 1.5, 1.7, 1.6, 1.4]}, {\"hoverlabel\": {\"namelength\": 0}, \"hovertemplate\": \"variety=Versicolor<br>sepal.length=%{x}<br>sepal.width=%{y}<br>petal.length=%{z}<br>petal.width=%{marker.size}\", \"legendgroup\": \"variety=Versicolor\", \"marker\": {\"color\": \"#FFA15A\", \"size\": [1.1, 1.4, 1.6, 1.3, 1.5, 1.5, 1.2, 1.5, 1.2, 1.5, 1.7, 1.3, 1.2, 1.4, 1.1, 1.3, 1.5, 1.3, 1.4, 1.6, 1.2, 1.4, 1.3, 1.0, 1.3, 1.0, 1.3, 1.6, 1.0, 1.3, 1.3, 1.3, 1.2, 1.1, 1.5, 1.4, 1.8, 1.3, 1.0, 1.0, 1.0, 1.5, 1.4, 1.5, 1.3, 1.5, 1.4, 1.3, 1.0, 1.5], \"sizemode\": \"area\", \"sizeref\": 0.00625, \"symbol\": \"circle\"}, \"mode\": \"markers\", \"name\": \"variety=Versicolor\", \"scene\": \"scene\", \"showlegend\": true, \"type\": \"scatter3d\", \"x\": [5.1, 6.6, 6.3, 5.6, 6.4, 6.0, 5.8, 5.6, 5.5, 5.4, 6.7, 5.7, 6.1, 6.1, 5.6, 5.5, 6.5, 6.6, 5.2, 6.0, 5.7, 6.7, 5.7, 6.0, 6.4, 5.0, 5.5, 6.0, 5.8, 6.2, 6.3, 5.6, 5.8, 5.5, 6.9, 6.8, 5.9, 5.6, 5.5, 5.0, 4.9, 5.9, 6.1, 6.7, 5.7, 6.2, 7.0, 6.1, 5.7, 6.3], \"y\": [2.5, 3.0, 3.3, 2.7, 3.2, 2.9, 2.6, 3.0, 2.6, 3.0, 3.0, 2.8, 2.8, 3.0, 2.5, 2.3, 2.8, 2.9, 2.7, 3.4, 3.0, 3.1, 2.8, 2.2, 2.9, 2.3, 2.5, 2.7, 2.7, 2.9, 2.3, 2.9, 2.7, 2.4, 3.1, 2.8, 3.2, 3.0, 2.4, 2.0, 2.4, 3.0, 2.9, 3.1, 2.9, 2.2, 3.2, 2.8, 2.6, 2.5], \"z\": [3.0, 4.4, 4.7, 4.2, 4.5, 4.5, 4.0, 4.5, 4.4, 4.5, 5.0, 4.1, 4.7, 4.6, 3.9, 4.0, 4.6, 4.6, 3.9, 4.5, 4.2, 4.4, 4.5, 4.0, 4.3, 3.3, 4.0, 5.1, 4.1, 4.3, 4.4, 3.6, 3.9, 3.8, 4.9, 4.8, 4.8, 4.1, 3.7, 3.5, 3.3, 4.2, 4.7, 4.7, 4.2, 4.5, 4.7, 4.0, 3.5, 4.9]}, {\"hoverlabel\": {\"namelength\": 0}, \"hovertemplate\": \"variety=Virginica<br>sepal.length=%{x}<br>sepal.width=%{y}<br>petal.length=%{z}<br>petal.width=%{marker.size}\", \"legendgroup\": \"variety=Virginica\", \"marker\": {\"color\": \"#19d3f3\", \"size\": [2.0, 2.3, 2.3, 2.1, 1.8, 1.9, 2.3, 2.1, 2.4, 1.8, 2.1, 1.5, 1.8, 2.3, 2.2, 2.1, 1.8, 2.2, 1.8, 2.0, 2.0, 1.8, 2.2, 1.8, 2.0, 2.5, 1.8, 1.8, 2.5, 2.1, 1.9, 1.8, 1.9, 2.1, 2.3, 2.3, 2.5, 2.4, 2.0, 2.3, 1.9, 2.0, 1.7, 2.3, 1.9, 1.4, 1.6, 1.5, 1.8, 2.4], \"sizemode\": \"area\", \"sizeref\": 0.00625, \"symbol\": \"circle\"}, \"mode\": \"markers\", \"name\": \"variety=Virginica\", \"scene\": \"scene\", \"showlegend\": true, \"type\": \"scatter3d\", \"x\": [7.9, 6.9, 6.9, 7.1, 7.2, 6.3, 7.7, 6.4, 5.8, 6.7, 6.8, 6.0, 6.3, 7.7, 7.7, 6.9, 7.3, 6.4, 6.2, 7.7, 5.7, 6.3, 6.5, 6.1, 6.5, 6.7, 6.0, 6.5, 6.3, 6.7, 6.4, 5.9, 7.4, 7.6, 6.7, 6.2, 7.2, 6.3, 5.6, 6.8, 5.8, 6.5, 4.9, 6.4, 5.8, 6.1, 7.2, 6.3, 6.4, 6.7], \"y\": [3.8, 3.1, 3.2, 3.0, 3.2, 2.5, 3.0, 2.8, 2.8, 2.5, 3.0, 2.2, 2.9, 2.6, 3.8, 3.1, 2.9, 2.8, 2.8, 2.8, 2.5, 2.7, 3.0, 3.0, 3.2, 3.3, 3.0, 3.0, 3.3, 3.3, 2.7, 3.0, 2.8, 3.0, 3.0, 3.4, 3.6, 3.4, 2.8, 3.2, 2.7, 3.0, 2.5, 3.2, 2.7, 2.6, 3.0, 2.8, 3.1, 3.1], \"z\": [6.4, 5.1, 5.7, 5.9, 6.0, 5.0, 6.1, 5.6, 5.1, 5.8, 5.5, 5.0, 5.6, 6.9, 6.7, 5.4, 6.3, 5.6, 4.8, 6.7, 5.0, 4.9, 5.8, 4.9, 5.1, 5.7, 4.8, 5.5, 6.0, 5.7, 5.3, 5.1, 6.1, 6.6, 5.2, 5.4, 6.1, 5.6, 4.9, 5.9, 5.1, 5.2, 4.5, 5.3, 5.1, 5.6, 5.8, 5.1, 5.5, 5.6]}],\n",
              "                        {\"legend\": {\"itemsizing\": \"constant\", \"tracegroupgap\": 0}, \"margin\": {\"t\": 60}, \"scene\": {\"domain\": {\"x\": [0.0, 1.0], \"y\": [0.0, 1.0]}, \"xaxis\": {\"title\": {\"text\": \"sepal.length\"}}, \"yaxis\": {\"title\": {\"text\": \"sepal.width\"}}, \"zaxis\": {\"title\": {\"text\": \"petal.length\"}}}, \"template\": {\"data\": {\"bar\": [{\"error_x\": {\"color\": \"#2a3f5f\"}, \"error_y\": {\"color\": \"#2a3f5f\"}, \"marker\": {\"line\": {\"color\": \"#E5ECF6\", \"width\": 0.5}}, \"type\": \"bar\"}], \"barpolar\": [{\"marker\": {\"line\": {\"color\": \"#E5ECF6\", \"width\": 0.5}}, \"type\": \"barpolar\"}], \"carpet\": [{\"aaxis\": {\"endlinecolor\": \"#2a3f5f\", \"gridcolor\": \"white\", \"linecolor\": \"white\", \"minorgridcolor\": \"white\", \"startlinecolor\": \"#2a3f5f\"}, \"baxis\": {\"endlinecolor\": \"#2a3f5f\", \"gridcolor\": \"white\", \"linecolor\": \"white\", \"minorgridcolor\": \"white\", \"startlinecolor\": \"#2a3f5f\"}, \"type\": \"carpet\"}], \"choropleth\": [{\"colorbar\": {\"outlinewidth\": 0, \"ticks\": \"\"}, \"type\": \"choropleth\"}], \"contour\": [{\"colorbar\": {\"outlinewidth\": 0, \"ticks\": \"\"}, \"colorscale\": [[0.0, \"#0d0887\"], [0.1111111111111111, \"#46039f\"], [0.2222222222222222, \"#7201a8\"], [0.3333333333333333, \"#9c179e\"], [0.4444444444444444, \"#bd3786\"], [0.5555555555555556, \"#d8576b\"], [0.6666666666666666, \"#ed7953\"], [0.7777777777777778, \"#fb9f3a\"], [0.8888888888888888, \"#fdca26\"], [1.0, \"#f0f921\"]], \"type\": \"contour\"}], \"contourcarpet\": [{\"colorbar\": {\"outlinewidth\": 0, \"ticks\": \"\"}, \"type\": \"contourcarpet\"}], \"heatmap\": [{\"colorbar\": {\"outlinewidth\": 0, \"ticks\": \"\"}, \"colorscale\": [[0.0, \"#0d0887\"], [0.1111111111111111, \"#46039f\"], [0.2222222222222222, \"#7201a8\"], [0.3333333333333333, \"#9c179e\"], [0.4444444444444444, \"#bd3786\"], [0.5555555555555556, \"#d8576b\"], [0.6666666666666666, \"#ed7953\"], [0.7777777777777778, \"#fb9f3a\"], [0.8888888888888888, \"#fdca26\"], [1.0, \"#f0f921\"]], \"type\": \"heatmap\"}], \"heatmapgl\": [{\"colorbar\": {\"outlinewidth\": 0, \"ticks\": \"\"}, \"colorscale\": [[0.0, \"#0d0887\"], [0.1111111111111111, \"#46039f\"], [0.2222222222222222, \"#7201a8\"], [0.3333333333333333, \"#9c179e\"], [0.4444444444444444, \"#bd3786\"], [0.5555555555555556, \"#d8576b\"], [0.6666666666666666, \"#ed7953\"], [0.7777777777777778, \"#fb9f3a\"], [0.8888888888888888, \"#fdca26\"], [1.0, \"#f0f921\"]], \"type\": \"heatmapgl\"}], \"histogram\": [{\"marker\": {\"colorbar\": {\"outlinewidth\": 0, \"ticks\": \"\"}}, \"type\": \"histogram\"}], \"histogram2d\": [{\"colorbar\": {\"outlinewidth\": 0, \"ticks\": \"\"}, \"colorscale\": [[0.0, \"#0d0887\"], [0.1111111111111111, \"#46039f\"], [0.2222222222222222, \"#7201a8\"], [0.3333333333333333, \"#9c179e\"], [0.4444444444444444, \"#bd3786\"], [0.5555555555555556, \"#d8576b\"], [0.6666666666666666, \"#ed7953\"], [0.7777777777777778, \"#fb9f3a\"], [0.8888888888888888, \"#fdca26\"], [1.0, \"#f0f921\"]], \"type\": \"histogram2d\"}], \"histogram2dcontour\": [{\"colorbar\": {\"outlinewidth\": 0, \"ticks\": \"\"}, \"colorscale\": [[0.0, \"#0d0887\"], [0.1111111111111111, \"#46039f\"], [0.2222222222222222, \"#7201a8\"], [0.3333333333333333, \"#9c179e\"], [0.4444444444444444, \"#bd3786\"], [0.5555555555555556, \"#d8576b\"], [0.6666666666666666, \"#ed7953\"], [0.7777777777777778, \"#fb9f3a\"], [0.8888888888888888, \"#fdca26\"], [1.0, \"#f0f921\"]], \"type\": \"histogram2dcontour\"}], \"mesh3d\": [{\"colorbar\": {\"outlinewidth\": 0, \"ticks\": \"\"}, \"type\": \"mesh3d\"}], \"parcoords\": [{\"line\": {\"colorbar\": {\"outlinewidth\": 0, \"ticks\": \"\"}}, \"type\": \"parcoords\"}], \"pie\": [{\"automargin\": true, \"type\": \"pie\"}], \"scatter\": [{\"marker\": {\"colorbar\": {\"outlinewidth\": 0, \"ticks\": \"\"}}, \"type\": \"scatter\"}], \"scatter3d\": [{\"line\": {\"colorbar\": {\"outlinewidth\": 0, \"ticks\": \"\"}}, \"marker\": {\"colorbar\": {\"outlinewidth\": 0, \"ticks\": \"\"}}, \"type\": \"scatter3d\"}], \"scattercarpet\": [{\"marker\": {\"colorbar\": {\"outlinewidth\": 0, \"ticks\": \"\"}}, \"type\": \"scattercarpet\"}], \"scattergeo\": [{\"marker\": {\"colorbar\": {\"outlinewidth\": 0, \"ticks\": \"\"}}, \"type\": \"scattergeo\"}], \"scattergl\": [{\"marker\": {\"colorbar\": {\"outlinewidth\": 0, \"ticks\": \"\"}}, \"type\": \"scattergl\"}], \"scattermapbox\": [{\"marker\": {\"colorbar\": {\"outlinewidth\": 0, \"ticks\": \"\"}}, \"type\": \"scattermapbox\"}], \"scatterpolar\": [{\"marker\": {\"colorbar\": {\"outlinewidth\": 0, \"ticks\": \"\"}}, \"type\": \"scatterpolar\"}], \"scatterpolargl\": [{\"marker\": {\"colorbar\": {\"outlinewidth\": 0, \"ticks\": \"\"}}, \"type\": \"scatterpolargl\"}], \"scatterternary\": [{\"marker\": {\"colorbar\": {\"outlinewidth\": 0, \"ticks\": \"\"}}, \"type\": \"scatterternary\"}], \"surface\": [{\"colorbar\": {\"outlinewidth\": 0, \"ticks\": \"\"}, \"colorscale\": [[0.0, \"#0d0887\"], [0.1111111111111111, \"#46039f\"], [0.2222222222222222, \"#7201a8\"], [0.3333333333333333, \"#9c179e\"], [0.4444444444444444, \"#bd3786\"], [0.5555555555555556, \"#d8576b\"], [0.6666666666666666, \"#ed7953\"], [0.7777777777777778, \"#fb9f3a\"], [0.8888888888888888, \"#fdca26\"], [1.0, \"#f0f921\"]], \"type\": \"surface\"}], \"table\": [{\"cells\": {\"fill\": {\"color\": \"#EBF0F8\"}, \"line\": {\"color\": \"white\"}}, \"header\": {\"fill\": {\"color\": \"#C8D4E3\"}, \"line\": {\"color\": \"white\"}}, \"type\": \"table\"}]}, \"layout\": {\"annotationdefaults\": {\"arrowcolor\": \"#2a3f5f\", \"arrowhead\": 0, \"arrowwidth\": 1}, \"coloraxis\": {\"colorbar\": {\"outlinewidth\": 0, \"ticks\": \"\"}}, \"colorscale\": {\"diverging\": [[0, \"#8e0152\"], [0.1, \"#c51b7d\"], [0.2, \"#de77ae\"], [0.3, \"#f1b6da\"], [0.4, \"#fde0ef\"], [0.5, \"#f7f7f7\"], [0.6, \"#e6f5d0\"], [0.7, \"#b8e186\"], [0.8, \"#7fbc41\"], [0.9, \"#4d9221\"], [1, \"#276419\"]], \"sequential\": [[0.0, \"#0d0887\"], [0.1111111111111111, \"#46039f\"], [0.2222222222222222, \"#7201a8\"], [0.3333333333333333, \"#9c179e\"], [0.4444444444444444, \"#bd3786\"], [0.5555555555555556, \"#d8576b\"], [0.6666666666666666, \"#ed7953\"], [0.7777777777777778, \"#fb9f3a\"], [0.8888888888888888, \"#fdca26\"], [1.0, \"#f0f921\"]], \"sequentialminus\": [[0.0, \"#0d0887\"], [0.1111111111111111, \"#46039f\"], [0.2222222222222222, \"#7201a8\"], [0.3333333333333333, \"#9c179e\"], [0.4444444444444444, \"#bd3786\"], [0.5555555555555556, \"#d8576b\"], [0.6666666666666666, \"#ed7953\"], [0.7777777777777778, \"#fb9f3a\"], [0.8888888888888888, \"#fdca26\"], [1.0, \"#f0f921\"]]}, \"colorway\": [\"#636efa\", \"#EF553B\", \"#00cc96\", \"#ab63fa\", \"#FFA15A\", \"#19d3f3\", \"#FF6692\", \"#B6E880\", \"#FF97FF\", \"#FECB52\"], \"font\": {\"color\": \"#2a3f5f\"}, \"geo\": {\"bgcolor\": \"white\", \"lakecolor\": \"white\", \"landcolor\": \"#E5ECF6\", \"showlakes\": true, \"showland\": true, \"subunitcolor\": \"white\"}, \"hoverlabel\": {\"align\": \"left\"}, \"hovermode\": \"closest\", \"mapbox\": {\"style\": \"light\"}, \"paper_bgcolor\": \"white\", \"plot_bgcolor\": \"#E5ECF6\", \"polar\": {\"angularaxis\": {\"gridcolor\": \"white\", \"linecolor\": \"white\", \"ticks\": \"\"}, \"bgcolor\": \"#E5ECF6\", \"radialaxis\": {\"gridcolor\": \"white\", \"linecolor\": \"white\", \"ticks\": \"\"}}, \"scene\": {\"xaxis\": {\"backgroundcolor\": \"#E5ECF6\", \"gridcolor\": \"white\", \"gridwidth\": 2, \"linecolor\": \"white\", \"showbackground\": true, \"ticks\": \"\", \"zerolinecolor\": \"white\"}, \"yaxis\": {\"backgroundcolor\": \"#E5ECF6\", \"gridcolor\": \"white\", \"gridwidth\": 2, \"linecolor\": \"white\", \"showbackground\": true, \"ticks\": \"\", \"zerolinecolor\": \"white\"}, \"zaxis\": {\"backgroundcolor\": \"#E5ECF6\", \"gridcolor\": \"white\", \"gridwidth\": 2, \"linecolor\": \"white\", \"showbackground\": true, \"ticks\": \"\", \"zerolinecolor\": \"white\"}}, \"shapedefaults\": {\"line\": {\"color\": \"#2a3f5f\"}}, \"ternary\": {\"aaxis\": {\"gridcolor\": \"white\", \"linecolor\": \"white\", \"ticks\": \"\"}, \"baxis\": {\"gridcolor\": \"white\", \"linecolor\": \"white\", \"ticks\": \"\"}, \"bgcolor\": \"#E5ECF6\", \"caxis\": {\"gridcolor\": \"white\", \"linecolor\": \"white\", \"ticks\": \"\"}}, \"title\": {\"x\": 0.05}, \"xaxis\": {\"automargin\": true, \"gridcolor\": \"white\", \"linecolor\": \"white\", \"ticks\": \"\", \"title\": {\"standoff\": 15}, \"zerolinecolor\": \"white\", \"zerolinewidth\": 2}, \"yaxis\": {\"automargin\": true, \"gridcolor\": \"white\", \"linecolor\": \"white\", \"ticks\": \"\", \"title\": {\"standoff\": 15}, \"zerolinecolor\": \"white\", \"zerolinewidth\": 2}}}},\n",
              "                        {\"responsive\": true}\n",
              "                    ).then(function(){\n",
              "                            \n",
              "var gd = document.getElementById('79857296-ed5e-403e-b595-5e5eb53bf6a9');\n",
              "var x = new MutationObserver(function (mutations, observer) {{\n",
              "        var display = window.getComputedStyle(gd).display;\n",
              "        if (!display || display === 'none') {{\n",
              "            console.log([gd, 'removed!']);\n",
              "            Plotly.purge(gd);\n",
              "            observer.disconnect();\n",
              "        }}\n",
              "}});\n",
              "\n",
              "// Listen for the removal of the full notebook cells\n",
              "var notebookContainer = gd.closest('#notebook-container');\n",
              "if (notebookContainer) {{\n",
              "    x.observe(notebookContainer, {childList: true});\n",
              "}}\n",
              "\n",
              "// Listen for the clearing of the current output cell\n",
              "var outputEl = gd.closest('.output');\n",
              "if (outputEl) {{\n",
              "    x.observe(outputEl, {childList: true});\n",
              "}}\n",
              "\n",
              "                        })\n",
              "                };\n",
              "                \n",
              "            </script>\n",
              "        </div>\n",
              "</body>\n",
              "</html>"
            ]
          },
          "metadata": {}
        }
      ]
    },
    {
      "cell_type": "code",
      "metadata": {
        "colab": {
          "base_uri": "https://localhost:8080/",
          "height": 440
        },
        "id": "k4FeQgz9wCCp",
        "outputId": "5de2861f-6f59-4571-8681-0a216286227e"
      },
      "source": [
        "x.visualize(y_test, predictions, 'variety')"
      ],
      "execution_count": 17,
      "outputs": [
        {
          "output_type": "display_data",
          "data": {
            "image/png": "[encoded data removed]",
            "text/plain": [
              "<Figure size 1080x432 with 2 Axes>"
            ]
          },
          "metadata": {
            "needs_background": "light"
          }
        }
      ]
    }
  ]
}